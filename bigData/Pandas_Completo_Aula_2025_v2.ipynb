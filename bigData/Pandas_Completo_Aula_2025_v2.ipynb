{
 "cells": [
  {
   "cell_type": "markdown",
   "id": "edc5e959",
   "metadata": {},
   "source": [
    "\n",
    "# Pandas — Guia Completo e Didático (com dados sintéticos) — **v2 (com visualizações avançadas)**\n",
    "\n",
    "**Objetivo:** fornecer um *notebook* auto-contido e pronto para aula/estudo, cobrindo **leitura**, **inspeção**, **limpeza**, **seleção**, **datas**, **agregação**, **reshape** (*pivot/melt*), **merge/join/concat**, **ranking/janelas**, **tipos/categorias**, **I/O**, **performance**, **visualização (matplotlib)**, **exercícios/gabaritos** e um **anexo** sobre **módulo × pacote**.  \n",
    "> **NOVIDADE**: Seção **16** com **Matplotlib, Seaborn, Plotly, Altair e Bokeh**.\n",
    "\n",
    "## Sumário\n",
    "1. Ambiente e versões  \n",
    "2. Geração de dados sintéticos  \n",
    "3. Leitura de dados: CSV/Excel/JSON  \n",
    "4. Inspeção, seleção e `query`  \n",
    "5. Limpeza e preparação  \n",
    "6. Datas e séries temporais  \n",
    "7. Agregações e `groupby` avançado  \n",
    "8. Reshape: `pivot`, `pivot_table`, `melt`  \n",
    "9. Junções: `merge`, `join`, `concat`  \n",
    "10. Ordenação, ranking e janelas  \n",
    "11. Tipos e categorias  \n",
    "12. Entrada/Saída  \n",
    "13. Performance  \n",
    "14. Visualização (matplotlib)  \n",
    "15. Exercícios + Gabaritos  \n",
    "16. **Visualizações avançadas (Matplotlib, Seaborn, Plotly, Altair, Bokeh)**  \n",
    "17. Anexo: Módulo × Pacote em Python e `__init__.py`\n"
   ]
  },
  {
   "cell_type": "code",
   "execution_count": null,
   "id": "04f75d9d",
   "metadata": {},
   "outputs": [],
   "source": [
    "\n",
    "import sys, platform\n",
    "import pandas as pd\n",
    "import numpy as np\n",
    "\n",
    "print(\"Python:\", sys.version.split()[0])\n",
    "print(\"Pandas:\", pd.__version__)\n",
    "print(\"Numpy:\", np.__version__)\n",
    "print(\"OS:\", platform.platform())\n"
   ]
  },
  {
   "cell_type": "markdown",
   "id": "301021f0",
   "metadata": {},
   "source": [
    "\n",
    "## 1) Geração de dados sintéticos (auto-contido)\n",
    "\n",
    "Criamos:\n",
    "- **Vendas** (`df_vendas`): data, região, produto, **categoria**, **id_cliente**, **nome_cliente**, **valor**\n",
    "- **Clientes (dim)** (`df_clientes`): id, nome, região, renda\n",
    "- **Filmes (JSON)**: lista de objetos `{titulo, ano, genero, nota}`\n",
    "- **Planilha Excel** com duas abas: `Compras` e `Clientes`\n",
    "\n",
    "Também salvamos versões temporárias (CSV/JSON/XLSX) em `data/`.\n"
   ]
  },
  {
   "cell_type": "code",
   "execution_count": null,
   "id": "7fc73af0",
   "metadata": {},
   "outputs": [],
   "source": [
    "\n",
    "from pathlib import Path\n",
    "from datetime import datetime, timedelta\n",
    "import json\n",
    "import pandas as pd\n",
    "import numpy as np\n",
    "\n",
    "np.random.seed(42)\n",
    "\n",
    "base = Path(\"data\")\n",
    "base.mkdir(exist_ok=True)\n",
    "\n",
    "# --- Clientes (dimensão) ---\n",
    "n_clientes = 120\n",
    "regioes = [\"Norte\", \"Nordeste\", \"Centro-Oeste\", \"Sudeste\", \"Sul\"]\n",
    "nomes = [f\"Cliente {i:03d}\" for i in range(1, n_clientes+1)]\n",
    "ids = np.arange(1, n_clientes+1)\n",
    "\n",
    "df_clientes = pd.DataFrame({\n",
    "    \"id_cliente\": ids,\n",
    "    \"nome_cliente\": nomes,\n",
    "    \"regiao\": np.random.choice(regioes, size=n_clientes, replace=True),\n",
    "    \"renda_mensal\": np.random.gamma(2.0, 1500, size=n_clientes).round(2)\n",
    "})\n",
    "\n",
    "# --- Vendas ---\n",
    "dias = pd.date_range(\"2024-01-01\", periods=365, freq=\"D\")\n",
    "produtos = [f\"Produto_{i:02d}\" for i in range(1, 15)]\n",
    "categorias = {\n",
    "    \"Bebidas\": produtos[0:4],\n",
    "    \"Alimentos\": produtos[4:8],\n",
    "    \"Higiene\": produtos[8:11],\n",
    "    \"Limpeza\": produtos[11:14]\n",
    "}\n",
    "cat_por_prod = {p: c for c, plist in categorias.items() for p in plist}\n",
    "\n",
    "linhas = 15000\n",
    "df_vendas = pd.DataFrame({\n",
    "    \"data\": np.random.choice(dias, size=linhas, replace=True),\n",
    "    \"id_cliente\": np.random.choice(ids, size=linhas, replace=True),\n",
    "    \"produto\": np.random.choice(produtos, size=linhas, replace=True),\n",
    "    \"valor\": np.abs(np.random.normal(120, 60, size=linhas)).clip(5, None).round(2)\n",
    "})\n",
    "df_vendas[\"categoria\"] = df_vendas[\"produto\"].map(cat_por_prod)\n",
    "df_vendas = df_vendas.merge(df_clientes, on=\"id_cliente\", how=\"left\")\n",
    "df_vendas = df_vendas[[\n",
    "    \"data\", \"regiao\", \"id_cliente\", \"nome_cliente\", \"produto\", \"categoria\", \"valor\", \"renda_mensal\"\n",
    "]].sort_values(\"data\", ignore_index=True)\n",
    "\n",
    "# --- JSON (filmes) ---\n",
    "generos = [\"Ação\", \"Drama\", \"Comédia\", \"Ficção\", \"Documentário\"]\n",
    "filmes = [{\n",
    "    \"titulo\": f\"Filme {i:02d}\",\n",
    "    \"ano\": int(np.random.choice(np.arange(1980, 2025))),\n",
    "    \"genero\": np.random.choice(generos),\n",
    "    \"nota\": round(np.random.uniform(1, 10), 1)\n",
    "} for i in range(1, 51)]\n",
    "\n",
    "# --- Salva CSV/JSON/Excel ---\n",
    "df_vendas.to_csv(base / \"vendas.csv\", index=False, encoding=\"utf-8\")\n",
    "df_clientes.to_csv(base / \"clientes.csv\", index=False, encoding=\"utf-8\")\n",
    "with open(base / \"filmes.json\", \"w\", encoding=\"utf-8\") as f:\n",
    "    json.dump(filmes, f, ensure_ascii=False, indent=2)\n",
    "\n",
    "with pd.ExcelWriter(base / \"dados.xlsx\") as w:\n",
    "    df_vendas.to_excel(w, sheet_name=\"Compras\", index=False)\n",
    "    df_clientes.to_excel(w, sheet_name=\"Clientes\", index=False)\n",
    "\n",
    "len(df_vendas), len(df_clientes), len(filmes)\n"
   ]
  },
  {
   "cell_type": "markdown",
   "id": "790050fc",
   "metadata": {},
   "source": [
    "\n",
    "## 2) Leitura de dados (CSV, Excel, JSON)\n"
   ]
  },
  {
   "cell_type": "code",
   "execution_count": null,
   "id": "22f7a16d",
   "metadata": {},
   "outputs": [],
   "source": [
    "\n",
    "df_csv = pd.read_csv(\"data/vendas.csv\", parse_dates=[\"data\"])\n",
    "df_xlsx_compras = pd.read_excel(\"data/dados.xlsx\", sheet_name=\"Compras\", parse_dates=[\"data\"])\n",
    "df_xlsx_clientes = pd.read_excel(\"data/dados.xlsx\", sheet_name=\"Clientes\")\n",
    "df_json = pd.read_json(\"data/filmes.json\", orient=\"records\")\n",
    "\n",
    "print(df_csv.shape, df_xlsx_compras.shape, df_xlsx_clientes.shape, df_json.shape)\n",
    "df_csv.head(3)\n"
   ]
  },
  {
   "cell_type": "code",
   "execution_count": null,
   "id": "3292b51f",
   "metadata": {},
   "outputs": [],
   "source": [
    "\n",
    "display(df_csv.info())\n",
    "display(df_csv.describe(numeric_only=True))\n"
   ]
  },
  {
   "cell_type": "markdown",
   "id": "c70f5019",
   "metadata": {},
   "source": [
    "\n",
    "## 3) Inspeção, seleção e `query`\n"
   ]
  },
  {
   "cell_type": "code",
   "execution_count": null,
   "id": "7370a061",
   "metadata": {},
   "outputs": [],
   "source": [
    "\n",
    "df = df_csv.copy()\n",
    "\n",
    "primeiras_linhas = df.head(5)\n",
    "colunas_escolhidas = df[[\"data\", \"regiao\", \"valor\"]].head(3)\n",
    "por_posicao = df.iloc[0:3, 0:4]\n",
    "\n",
    "sudeste_maior_200 = df[(df[\"regiao\"] == \"Sudeste\") & (df[\"valor\"] > 200)].head(5)\n",
    "\n",
    "q1 = df.query(\"regiao == 'Sul' and valor < 50\").head(3)\n",
    "\n",
    "df_espaco = df.rename(columns={\"nome_cliente\": \"Nome do Cliente\"})\n",
    "q2 = df_espaco.query(\"`Nome do Cliente`.str.contains('010')\", engine=\"python\").head(3)\n",
    "\n",
    "primeiras_linhas, colunas_escolhidas, por_posicao, sudeste_maior_200, q1, q2\n"
   ]
  },
  {
   "cell_type": "markdown",
   "id": "354baa05",
   "metadata": {},
   "source": [
    "\n",
    "## 4) Limpeza e preparação\n"
   ]
  },
  {
   "cell_type": "code",
   "execution_count": null,
   "id": "de94b6e2",
   "metadata": {},
   "outputs": [],
   "source": [
    "\n",
    "df = df_csv.copy()\n",
    "\n",
    "mask = np.random.rand(len(df)) < 0.01\n",
    "df.loc[mask, \"valor\"] = np.nan\n",
    "mask2 = np.random.rand(len(df)) < 0.01\n",
    "df.loc[mask2, \"categoria\"] = np.nan\n",
    "\n",
    "percent_nulos = df.isna().mean().round(4) * 100\n",
    "df[\"valor\"] = df[\"valor\"].fillna(df[\"valor\"].median())\n",
    "df[\"categoria\"] = df[\"categoria\"].fillna(\"Desconhecida\")\n",
    "\n",
    "antes = len(df)\n",
    "df_dup = pd.concat([df, df.iloc[0:2]], axis=0, ignore_index=True)\n",
    "apos = len(df_dup)\n",
    "df_sem_dup = df_dup.drop_duplicates()\n",
    "\n",
    "percent_nulos, (antes, apos, len(df_sem_dup))\n"
   ]
  },
  {
   "cell_type": "markdown",
   "id": "178451ee",
   "metadata": {},
   "source": [
    "\n",
    "## 5) Datas e séries temporais\n"
   ]
  },
  {
   "cell_type": "code",
   "execution_count": null,
   "id": "665d460f",
   "metadata": {},
   "outputs": [],
   "source": [
    "\n",
    "df = df_csv.copy()\n",
    "df[\"data\"] = pd.to_datetime(df[\"data\"])\n",
    "\n",
    "mensal_regiao = (df\n",
    "    .groupby([pd.Grouper(key=\"data\", freq=\"MS\"), \"regiao\"])[\"valor\"]\n",
    "    .sum()\n",
    "    .unstack(\"regiao\", fill_value=0)\n",
    ")\n",
    "\n",
    "resample_mensal = (df.set_index(\"data\")[\"valor\"]\n",
    "    .resample(\"MS\").sum()\n",
    ")\n",
    "\n",
    "mensal_regiao.head(3), resample_mensal.head(3)\n"
   ]
  },
  {
   "cell_type": "markdown",
   "id": "74eefd2a",
   "metadata": {},
   "source": [
    "\n",
    "## 6) Agregações e `groupby` avançado\n"
   ]
  },
  {
   "cell_type": "code",
   "execution_count": null,
   "id": "2c8c09d9",
   "metadata": {},
   "outputs": [],
   "source": [
    "\n",
    "df = df_csv.copy()\n",
    "\n",
    "agg_cat = (df.groupby(\"categoria\")[\"valor\"]\n",
    "             .agg(qtd=\"count\", soma=\"sum\", media=\"mean\", mediana=\"median\")\n",
    "             .sort_values(\"soma\", ascending=False))\n",
    "\n",
    "df[\"z_valor_regiao\"] = (df.groupby(\"regiao\")[\"valor\"]\n",
    "                          .transform(lambda s: (s - s.mean())/s.std(ddof=0)))\n",
    "\n",
    "df[\"mes\"] = df[\"data\"].astype(\"datetime64[M]\")\n",
    "somas = (df.groupby([\"mes\",\"regiao\",\"produto\"])[\"valor\"]\n",
    "           .sum()\n",
    "           .reset_index())\n",
    "somas[\"rank\"] = (somas.groupby([\"mes\",\"regiao\"])[\"valor\"]\n",
    "                       .rank(ascending=False, method=\"first\"))\n",
    "top3 = somas.query(\"rank <= 3\").sort_values([\"mes\",\"regiao\",\"valor\"], ascending=[True, True, False])\n",
    "\n",
    "agg_cat.head(3), df[[\"regiao\",\"valor\",\"z_valor_regiao\"]].head(3), top3.head(9)\n"
   ]
  },
  {
   "cell_type": "markdown",
   "id": "f339d6bb",
   "metadata": {},
   "source": [
    "\n",
    "## 7) Reshape de dados\n"
   ]
  },
  {
   "cell_type": "code",
   "execution_count": null,
   "id": "107c3c73",
   "metadata": {},
   "outputs": [],
   "source": [
    "\n",
    "df = df_csv.copy()\n",
    "df[\"mes\"] = df[\"data\"].astype(\"datetime64[M]\")\n",
    "\n",
    "tabela = (df.pivot_table(values=\"valor\", index=\"mes\", columns=\"regiao\",\n",
    "                         aggfunc=\"sum\", fill_value=0))\n",
    "\n",
    "tabela_reset = tabela.reset_index()\n",
    "tabela_melt = tabela_reset.melt(id_vars=\"mes\", var_name=\"regiao\", value_name=\"valor\")\n",
    "\n",
    "media_prod_cat = (df.groupby([\"produto\",\"categoria\"])[\"valor\"]\n",
    "                    .mean().reset_index())\n",
    "\n",
    "pivot_media = media_prod_cat.pivot(index=\"produto\", columns=\"categoria\", values=\"valor\").fillna(0)\n",
    "\n",
    "tabela.head(3), tabela_melt.head(3), pivot_media.head(3)\n"
   ]
  },
  {
   "cell_type": "markdown",
   "id": "610248dd",
   "metadata": {},
   "source": [
    "\n",
    "## 8) Junções e concatenação\n"
   ]
  },
  {
   "cell_type": "code",
   "execution_count": null,
   "id": "b8c64273",
   "metadata": {},
   "outputs": [],
   "source": [
    "\n",
    "df_v = df_csv.copy()\n",
    "df_c = df_xlsx_clientes.copy()\n",
    "\n",
    "enriquecido = df_v.merge(df_c[[\"id_cliente\",\"renda_mensal\"]], on=\"id_cliente\", how=\"left\")\n",
    "\n",
    "left = (df_v.groupby(\"regiao\")[\"valor\"].sum().to_frame(\"soma_valor\"))\n",
    "right = (df_v.groupby(\"regiao\")[\"valor\"].mean().to_frame(\"media_valor\"))\n",
    "por_indice = left.join(right, how=\"inner\")\n",
    "\n",
    "part1 = df_v.iloc[:100].reset_index(drop=True)\n",
    "part2 = df_v.iloc[100:200].reset_index(drop=True)\n",
    "empilhado = pd.concat([part1, part2], axis=0, ignore_index=True)\n",
    "\n",
    "lado_a_lado = pd.concat([left, right], axis=1)\n",
    "\n",
    "enriquecido.head(3), por_indice, empilhado.shape, lado_a_lado.head(3)\n"
   ]
  },
  {
   "cell_type": "markdown",
   "id": "667412fd",
   "metadata": {},
   "source": [
    "\n",
    "## 9) Ordenação, ranking e janelas (`rolling`, `expanding`)\n"
   ]
  },
  {
   "cell_type": "code",
   "execution_count": null,
   "id": "bbbd46ea",
   "metadata": {},
   "outputs": [],
   "source": [
    "\n",
    "df = df_csv.copy().sort_values([\"data\",\"valor\"])\n",
    "\n",
    "serie_diaria = df.groupby(\"data\")[\"valor\"].sum().sort_index()\n",
    "mm7 = serie_diaria.rolling(window=7, min_periods=1).mean()\n",
    "acum = serie_diaria.expanding().sum()\n",
    "\n",
    "serie_diaria.head(3), mm7.head(10), acum.head(5)\n"
   ]
  },
  {
   "cell_type": "markdown",
   "id": "71a83278",
   "metadata": {},
   "source": [
    "\n",
    "## 10) Tipos e categorias\n"
   ]
  },
  {
   "cell_type": "code",
   "execution_count": null,
   "id": "4e5352dd",
   "metadata": {},
   "outputs": [],
   "source": [
    "\n",
    "from pandas.api.types import CategoricalDtype\n",
    "\n",
    "df = df_csv.copy()\n",
    "ordem = [\"Norte\", \"Nordeste\", \"Centro-Oeste\", \"Sudeste\", \"Sul\"]\n",
    "cat_tipo = CategoricalDtype(categories=ordem, ordered=True)\n",
    "df[\"regiao\"] = df[\"regiao\"].astype(cat_tipo)\n",
    "\n",
    "df[\"regiao\"].dtype, df[\"regiao\"].cat.categories, df[\"regiao\"].cat.ordered\n"
   ]
  },
  {
   "cell_type": "markdown",
   "id": "11ffa701",
   "metadata": {},
   "source": [
    "\n",
    "## 11) Entrada/Saída\n"
   ]
  },
  {
   "cell_type": "code",
   "execution_count": null,
   "id": "66f9328b",
   "metadata": {},
   "outputs": [],
   "source": [
    "\n",
    "out = Path(\"output\")\n",
    "out.mkdir(exist_ok=True)\n",
    "\n",
    "amostra = df_csv.sample(1000, random_state=0).sort_values(\"data\")\n",
    "\n",
    "amostra.to_csv(out / \"amostra.csv\", index=False, encoding=\"utf-8\")\n",
    "amostra.to_excel(out / \"amostra.xlsx\", index=False)\n",
    "amostra.to_json(out / \"amostra.json\", orient=\"records\", force_ascii=False, indent=2)\n",
    "\n",
    "parquet_info = \"Parquet não gerado (sem engine).\"\n",
    "try:\n",
    "    amostra.to_parquet(out / \"amostra.parquet\", index=False)\n",
    "    parquet_info = \"Parquet gerado com sucesso.\"\n",
    "except Exception as e:\n",
    "    parquet_info = f\"Falha no Parquet: {type(e).__name__}: {e}\"\n",
    "\n",
    "parquet_info, list(out.iterdir())[:5]\n"
   ]
  },
  {
   "cell_type": "markdown",
   "id": "4a54db30",
   "metadata": {},
   "source": [
    "\n",
    "## 12) Performance: `dtype`, `usecols`, `chunksize`\n"
   ]
  },
  {
   "cell_type": "code",
   "execution_count": null,
   "id": "e371627b",
   "metadata": {},
   "outputs": [],
   "source": [
    "\n",
    "tipos = {\n",
    "    \"regiao\": \"category\",\n",
    "    \"id_cliente\": \"int32\",\n",
    "    \"nome_cliente\": \"string\",\n",
    "    \"produto\": \"string\",\n",
    "    \"categoria\": \"category\",\n",
    "    \"valor\": \"float32\",\n",
    "    \"renda_mensal\": \"float32\",\n",
    "}\n",
    "subset = pd.read_csv(\"data/vendas.csv\",\n",
    "                     usecols=[\"data\",\"regiao\",\"id_cliente\",\"produto\",\"valor\"],\n",
    "                     dtype={\"regiao\":\"category\",\"id_cliente\":\"int32\",\"produto\":\"string\",\"valor\":\"float32\"},\n",
    "                     parse_dates=[\"data\"])\n",
    "mem_mb = subset.memory_usage(deep=True).sum() / (1024**2)\n",
    "\n",
    "somas = {}\n",
    "for chunk in pd.read_csv(\"data/vendas.csv\", chunksize=5000):\n",
    "    g = chunk.groupby(\"produto\")[\"valor\"].sum()\n",
    "    for k,v in g.items():\n",
    "        somas[k] = somas.get(k, 0.0) + v\n",
    "somas_res = pd.Series(somas).sort_values(ascending=False).head(5)\n",
    "\n",
    "mem_mb, somas_res\n"
   ]
  },
  {
   "cell_type": "markdown",
   "id": "7567b3da",
   "metadata": {},
   "source": [
    "\n",
    "## 13) Visualização (matplotlib)\n"
   ]
  },
  {
   "cell_type": "code",
   "execution_count": null,
   "id": "b66739ab",
   "metadata": {},
   "outputs": [],
   "source": [
    "\n",
    "import matplotlib.pyplot as plt\n",
    "\n",
    "df = df_csv.copy()\n",
    "serie_diaria = df.groupby(\"data\")[\"valor\"].sum().sort_index()\n",
    "\n",
    "plt.figure(figsize=(9,4))\n",
    "plt.plot(serie_diaria.index, serie_diaria.values)\n",
    "plt.title(\"Total diário de vendas\")\n",
    "plt.xlabel(\"Data\"); plt.ylabel(\"Valor\")\n",
    "plt.tight_layout(); plt.show()\n"
   ]
  },
  {
   "cell_type": "code",
   "execution_count": null,
   "id": "3154ce38",
   "metadata": {},
   "outputs": [],
   "source": [
    "\n",
    "df = df_csv.copy()\n",
    "df[\"mes\"] = df[\"data\"].astype(\"datetime64[M]\")\n",
    "mensal = (df.groupby([\"mes\",\"regiao\"])[\"valor\"]\n",
    "            .sum()\n",
    "            .unstack(\"regiao\", fill_value=0))\n",
    "\n",
    "plt.figure(figsize=(10,4))\n",
    "mensal.plot(kind=\"bar\", ax=plt.gca())\n",
    "plt.title(\"Total mensal por região\")\n",
    "plt.xlabel(\"Mês\"); plt.ylabel(\"Valor\")\n",
    "plt.tight_layout(); plt.show()\n"
   ]
  },
  {
   "cell_type": "code",
   "execution_count": null,
   "id": "999ac148",
   "metadata": {},
   "outputs": [],
   "source": [
    "\n",
    "plt.figure(figsize=(8,4))\n",
    "plt.hist(df_csv[\"valor\"], bins=40)\n",
    "plt.title(\"Distribuição dos valores de venda\")\n",
    "plt.xlabel(\"Valor\"); plt.ylabel(\"Frequência\")\n",
    "plt.tight_layout(); plt.show()\n"
   ]
  },
  {
   "cell_type": "code",
   "execution_count": null,
   "id": "b04830c8",
   "metadata": {},
   "outputs": [],
   "source": [
    "\n",
    "ordem = [\"Bebidas\",\"Alimentos\",\"Higiene\",\"Limpeza\"]\n",
    "df_ord = df_csv[df_csv[\"categoria\"].isin(ordem)].copy()\n",
    "df_ord[\"categoria\"] = pd.Categorical(df_ord[\"categoria\"], categories=ordem, ordered=True)\n",
    "\n",
    "plt.figure(figsize=(8,4))\n",
    "df_ord.boxplot(column=\"valor\", by=\"categoria\")\n",
    "plt.title(\"Boxplot de valor por categoria\"); plt.suptitle(\"\")\n",
    "plt.xlabel(\"Categoria\"); plt.ylabel(\"Valor\")\n",
    "plt.tight_layout(); plt.show()\n"
   ]
  },
  {
   "cell_type": "code",
   "execution_count": null,
   "id": "77fd8166",
   "metadata": {},
   "outputs": [],
   "source": [
    "\n",
    "g = (df_csv.groupby([\"id_cliente\",\"nome_cliente\"])[\"valor\"]\n",
    "       .mean()\n",
    "       .rename(\"valor_medio\")\n",
    "       .reset_index()\n",
    "       .merge(df_clientes[[\"id_cliente\",\"renda_mensal\"]], on=\"id_cliente\", how=\"left\"))\n",
    "\n",
    "plt.figure(figsize=(8,4))\n",
    "plt.scatter(g[\"renda_mensal\"], g[\"valor_medio\"], s=10)\n",
    "plt.title(\"Renda mensal x Valor médio por cliente\")\n",
    "plt.xlabel(\"Renda mensal\"); plt.ylabel(\"Valor médio de compra\")\n",
    "plt.tight_layout(); plt.show()\n"
   ]
  },
  {
   "cell_type": "markdown",
   "id": "54d5439c",
   "metadata": {},
   "source": [
    "\n",
    "## 14) Exercícios (com gabarito)\n"
   ]
  },
  {
   "cell_type": "code",
   "execution_count": null,
   "id": "d114de2d",
   "metadata": {},
   "outputs": [],
   "source": [
    "\n",
    "# E1\n",
    "df = df_csv.copy()\n",
    "e1 = (df.groupby([\"regiao\",\"produto\"])[\"valor\"].sum()\n",
    "        .reset_index()\n",
    "        .sort_values([\"regiao\",\"valor\"], ascending=[True, False])\n",
    "        .groupby(\"regiao\").head(5))\n",
    "e1.head(10)\n"
   ]
  },
  {
   "cell_type": "code",
   "execution_count": null,
   "id": "86c4b6ab",
   "metadata": {},
   "outputs": [],
   "source": [
    "\n",
    "# E2 - top3 por mês/região\n",
    "df = df_csv.copy()\n",
    "df[\"mes\"] = df[\"data\"].astype(\"datetime64[M]\")\n",
    "somas = (df.groupby([\"mes\",\"regiao\",\"produto\"])[\"valor\"]\n",
    "           .sum()\n",
    "           .reset_index())\n",
    "somas[\"rank\"] = somas.groupby([\"mes\",\"regiao\"])[\"valor\"].rank(ascending=False, method=\"first\")\n",
    "e2 = somas.query(\"rank <= 3\").sort_values([\"mes\",\"regiao\",\"valor\"], ascending=[True, True, False])\n",
    "e2.head(12)\n"
   ]
  },
  {
   "cell_type": "code",
   "execution_count": null,
   "id": "e17784ba",
   "metadata": {},
   "outputs": [],
   "source": [
    "\n",
    "# E3 - clientes que compraram em mais de uma categoria\n",
    "g = (df_csv.groupby([\"id_cliente\",\"nome_cliente\"])[\"categoria\"]\n",
    "        .nunique()\n",
    "        .rename(\"qtd_categorias\"))\n",
    "e3 = g[g > 1].reset_index().sort_values(\"qtd_categorias\", ascending=False)\n",
    "e3.head(10)\n"
   ]
  },
  {
   "cell_type": "code",
   "execution_count": null,
   "id": "ab5bb62d",
   "metadata": {},
   "outputs": [],
   "source": [
    "\n",
    "# E4 - tabela mensal e salvar\n",
    "out = Path(\"output\")\n",
    "out.mkdir(exist_ok=True)\n",
    "tabela_mensal = (df_csv\n",
    "                 .assign(mes=df_csv[\"data\"].astype(\"datetime64[M]\"))\n",
    "                 .groupby([\"mes\",\"regiao\"])[\"valor\"].sum()\n",
    "                 .unstack(\"regiao\", fill_value=0))\n",
    "tabela_mensal.to_excel(out / \"tabela_mensal.xlsx\")\n",
    "tabela_mensal.head(3)\n"
   ]
  },
  {
   "cell_type": "code",
   "execution_count": null,
   "id": "acbb029e",
   "metadata": {},
   "outputs": [],
   "source": [
    "\n",
    "# E5 - média móvel de 7 dias\n",
    "import matplotlib.pyplot as plt\n",
    "serie_diaria = (df_csv.groupby(\"data\")[\"valor\"]\n",
    "                .sum()\n",
    "                .sort_index())\n",
    "mm7 = serie_diaria.rolling(window=7, min_periods=1).mean()\n",
    "\n",
    "plt.figure(figsize=(9,4))\n",
    "plt.plot(serie_diaria.index, serie_diaria.values, label=\"Diário\")\n",
    "plt.plot(mm7.index, mm7.values, label=\"MM7\")\n",
    "plt.title(\"Total diário e média móvel de 7 dias\")\n",
    "plt.xlabel(\"Data\"); plt.ylabel(\"Valor\")\n",
    "plt.legend()\n",
    "plt.tight_layout(); plt.show()\n"
   ]
  },
  {
   "cell_type": "markdown",
   "id": "e5303fc5",
   "metadata": {},
   "source": [
    "\n",
    "## 16) Visualizações avançadas por biblioteca (Matplotlib, Seaborn, Plotly, Altair, Bokeh)\n",
    "\n",
    "> As células abaixo utilizam `df_vendas` e `df_clientes` já carregados.  \n",
    "> **Dica**: execute a célula de preparação antes de plotar.\n"
   ]
  },
  {
   "cell_type": "code",
   "execution_count": null,
   "id": "330c0e82",
   "metadata": {},
   "outputs": [],
   "source": [
    "\n",
    "# Preparação de agregações para os gráficos avançados\n",
    "import pandas as pd\n",
    "import numpy as np\n",
    "\n",
    "df_vendas = df_vendas.copy()\n",
    "df_vendas[\"data\"] = pd.to_datetime(df_vendas[\"data\"])\n",
    "df_vendas[\"mes\"] = df_vendas[\"data\"].values.astype(\"datetime64[M]\")\n",
    "\n",
    "serie_diaria = df_vendas.groupby(\"data\")[\"valor\"].sum().sort_index()\n",
    "mensal_regiao = (df_vendas.groupby([\"mes\",\"regiao\"])[\"valor\"]\n",
    "                 .sum().unstack(\"regiao\", fill_value=0).sort_index())\n",
    "por_categoria = df_vendas.groupby(\"categoria\")[\"valor\"].sum().sort_values(ascending=False)\n",
    "top_produtos = (df_vendas.groupby(\"produto\")[\"valor\"].sum()\n",
    "                .sort_values(ascending=False).head(10).reset_index())\n",
    "client_media = (df_vendas.groupby([\"id_cliente\",\"nome_cliente\"])[\"valor\"].mean()\n",
    "                .rename(\"valor_medio\").reset_index()\n",
    "                .merge(df_clientes[[\"id_cliente\",\"renda_mensal\",\"regiao\"]], on=\"id_cliente\", how=\"left\"))\n"
   ]
  },
  {
   "cell_type": "markdown",
   "id": "23d1dd3a",
   "metadata": {},
   "source": [
    "\n",
    "### 16.1 Matplotlib — base sólida, anotações e layout\n"
   ]
  },
  {
   "cell_type": "code",
   "execution_count": null,
   "id": "0d00874a",
   "metadata": {},
   "outputs": [],
   "source": [
    "\n",
    "import matplotlib.pyplot as plt\n",
    "import matplotlib.dates as mdates\n",
    "\n",
    "fig = plt.figure(figsize=(11, 4.5))\n",
    "ax = plt.gca()\n",
    "\n",
    "ax.plot(serie_diaria.index, serie_diaria.values, linewidth=2)\n",
    "ax.set_title(\"Vendas diárias (R$)\", pad=12)\n",
    "ax.set_xlabel(\"Data\"); ax.set_ylabel(\"Valor\")\n",
    "ax.grid(True, alpha=.3)\n",
    "\n",
    "ax.xaxis.set_major_locator(mdates.MonthLocator(interval=1))\n",
    "ax.xaxis.set_major_formatter(mdates.DateFormatter('%b/%Y'))\n",
    "fig.autofmt_xdate(rotation=0)\n",
    "\n",
    "i_max = serie_diaria.idxmax()\n",
    "ax.annotate(f\"Pico\\\\nR$ {serie_diaria.max():,.0f}\".replace(',', 'X').replace('.', ',').replace('X','.'),\n",
    "            xy=(i_max, serie_diaria.max()), xytext=(15, 30),\n",
    "            textcoords=\"offset points\", arrowprops=dict(arrowstyle=\"->\"))\n",
    "\n",
    "plt.tight_layout(); plt.show()\n"
   ]
  },
  {
   "cell_type": "code",
   "execution_count": null,
   "id": "508c345a",
   "metadata": {},
   "outputs": [],
   "source": [
    "\n",
    "# Barras agrupadas (mensal × região)\n",
    "fig = plt.figure(figsize=(11,4.5))\n",
    "ax = plt.gca()\n",
    "mensal_regiao.plot(kind=\"bar\", ax=ax)\n",
    "ax.set_title(\"Vendas mensais por região (R$)\")\n",
    "ax.set_xlabel(\"Mês\"); ax.set_ylabel(\"Valor\")\n",
    "ax.grid(axis=\"y\", alpha=.3)\n",
    "plt.tight_layout(); plt.show()\n"
   ]
  },
  {
   "cell_type": "code",
   "execution_count": null,
   "id": "0c967a99",
   "metadata": {},
   "outputs": [],
   "source": [
    "\n",
    "# Histograma + média/mediana\n",
    "fig = plt.figure(figsize=(9,4))\n",
    "ax = plt.gca()\n",
    "ax.hist(df_vendas[\"valor\"], bins=50)\n",
    "ax.set_title(\"Distribuição de valores de venda\")\n",
    "ax.set_xlabel(\"Valor da venda\"); ax.set_ylabel(\"Frequência\")\n",
    "ax.axvline(df_vendas[\"valor\"].mean(), linestyle=\"--\", linewidth=1)\n",
    "ax.axvline(df_vendas[\"valor\"].median(), linestyle=\":\", linewidth=1)\n",
    "ax.grid(True, alpha=.25)\n",
    "plt.tight_layout(); plt.show()\n"
   ]
  },
  {
   "cell_type": "code",
   "execution_count": null,
   "id": "853cde87",
   "metadata": {},
   "outputs": [],
   "source": [
    "\n",
    "# Boxplot por categoria (ordenado)\n",
    "ordem = por_categoria.index.tolist()\n",
    "df_box = df_vendas[df_vendas[\"categoria\"].isin(ordem)].copy()\n",
    "df_box[\"categoria\"] = pd.Categorical(df_box[\"categoria\"], categories=ordem, ordered=True)\n",
    "\n",
    "fig = plt.figure(figsize=(9,4))\n",
    "ax = plt.gca()\n",
    "df_box.boxplot(column=\"valor\", by=\"categoria\", ax=ax)\n",
    "ax.set_title(\"Boxplot: valor por categoria\"); ax.set_xlabel(\"Categoria\"); ax.set_ylabel(\"Valor\")\n",
    "plt.suptitle(\"\")\n",
    "plt.tight_layout(); plt.show()\n"
   ]
  },
  {
   "cell_type": "markdown",
   "id": "b9952069",
   "metadata": {},
   "source": [
    "\n",
    "### 16.2 Seaborn — estatística visual rápida\n"
   ]
  },
  {
   "cell_type": "code",
   "execution_count": null,
   "id": "5d17dbe9",
   "metadata": {},
   "outputs": [],
   "source": [
    "\n",
    "import seaborn as sns\n",
    "import matplotlib.pyplot as plt\n",
    "\n",
    "sns.set_theme(context=\"talk\", style=\"whitegrid\")\n",
    "\n",
    "tmp = df_vendas.groupby([\"data\",\"regiao\"])[\"valor\"].sum().reset_index()\n",
    "\n",
    "plt.figure(figsize=(11,4.5))\n",
    "sns.lineplot(data=tmp, x=\"data\", y=\"valor\", hue=\"regiao\", estimator=None)\n",
    "plt.title(\"Série diária por região (soma)\")\n",
    "plt.xlabel(\"Data\"); plt.ylabel(\"Valor\"); plt.tight_layout(); plt.show()\n"
   ]
  },
  {
   "cell_type": "code",
   "execution_count": null,
   "id": "ef66da1b",
   "metadata": {},
   "outputs": [],
   "source": [
    "\n",
    "mensal_long = mensal_regiao.reset_index().melt(id_vars=\"mes\", var_name=\"regiao\", value_name=\"valor\")\n",
    "plt.figure(figsize=(10,4.5))\n",
    "sns.barplot(data=mensal_long, x=\"mes\", y=\"valor\", hue=\"regiao\")\n",
    "plt.title(\"Mensal por região (soma)\")\n",
    "plt.xlabel(\"Mês\"); plt.ylabel(\"Valor\"); plt.xticks(rotation=0)\n",
    "plt.tight_layout(); plt.show()\n"
   ]
  },
  {
   "cell_type": "code",
   "execution_count": null,
   "id": "b993687c",
   "metadata": {},
   "outputs": [],
   "source": [
    "\n",
    "plt.figure(figsize=(10,4.5))\n",
    "sns.boxenplot(data=df_box, x=\"categoria\", y=\"valor\")\n",
    "sns.stripplot(data=df_box.sample(min(3000, len(df_box)), random_state=0), x=\"categoria\", y=\"valor\", size=2, alpha=.3)\n",
    "plt.title(\"Distribuição por categoria (boxen + pontos)\")\n",
    "plt.xlabel(\"Categoria\"); plt.ylabel(\"Valor\")\n",
    "plt.tight_layout(); plt.show()\n"
   ]
  },
  {
   "cell_type": "code",
   "execution_count": null,
   "id": "f90f61e3",
   "metadata": {},
   "outputs": [],
   "source": [
    "\n",
    "num = df_clientes[[\"renda_mensal\"]].copy()\n",
    "corr = num.corr()\n",
    "plt.figure(figsize=(4,3.5))\n",
    "sns.heatmap(corr, annot=True, fmt=\".2f\", square=True)\n",
    "plt.title(\"Correlação (clientes)\"); plt.tightLayout = plt.tight_layout; plt.tight_layout(); plt.show()\n"
   ]
  },
  {
   "cell_type": "code",
   "execution_count": null,
   "id": "4adddd2a",
   "metadata": {},
   "outputs": [],
   "source": [
    "\n",
    "g = sns.jointplot(data=client_media, x=\"renda_mensal\", y=\"valor_medio\", kind=\"hex\", height=5)\n",
    "g.fig.suptitle(\"Renda × Valor médio de compra (hexbin)\", y=1.02)\n",
    "plt.show()\n"
   ]
  },
  {
   "cell_type": "markdown",
   "id": "6bb99a1c",
   "metadata": {},
   "source": [
    "\n",
    "### 16.3 Plotly — interatividade (zoom, hover, range slider)\n"
   ]
  },
  {
   "cell_type": "code",
   "execution_count": null,
   "id": "e14caaf8",
   "metadata": {},
   "outputs": [],
   "source": [
    "\n",
    "import plotly.express as px\n",
    "import plotly.graph_objects as go\n"
   ]
  },
  {
   "cell_type": "code",
   "execution_count": null,
   "id": "a558569e",
   "metadata": {},
   "outputs": [],
   "source": [
    "\n",
    "tmp = df_vendas.groupby(\"data\")[\"valor\"].sum().reset_index()\n",
    "fig = px.line(tmp, x=\"data\", y=\"valor\", title=\"Vendas diárias (interativo)\")\n",
    "fig.update_xaxes(rangeslider_visible=True)\n",
    "fig.show()\n"
   ]
  },
  {
   "cell_type": "code",
   "execution_count": null,
   "id": "6b890da0",
   "metadata": {},
   "outputs": [],
   "source": [
    "\n",
    "mensal_long_sorted = (mensal_regiao\n",
    "                      .reset_index()\n",
    "                      .melt(id_vars=\"mes\", var_name=\"regiao\", value_name=\"valor\")\n",
    "                      .sort_values([\"mes\",\"regiao\"]))\n",
    "fig = px.bar(mensal_long_sorted, x=\"mes\", y=\"valor\", color=\"regiao\", barmode=\"group\",\n",
    "             title=\"Mensal por região (interativo)\")\n",
    "fig.update_layout(xaxis_tickformat=\"%b\\n%Y\")\n",
    "fig.show()\n"
   ]
  },
  {
   "cell_type": "code",
   "execution_count": null,
   "id": "f81412ab",
   "metadata": {},
   "outputs": [],
   "source": [
    "\n",
    "fig = px.scatter(client_media, x=\"renda_mensal\", y=\"valor_medio\", color=\"regiao\",\n",
    "                 hover_data=[\"nome_cliente\"], facet_col=\"regiao\", facet_col_wrap=3,\n",
    "                 title=\"Renda × Valor médio por cliente (facet por região)\")\n",
    "fig.update_traces(marker=dict(size=6, opacity=.7))\n",
    "fig.show()\n"
   ]
  },
  {
   "cell_type": "code",
   "execution_count": null,
   "id": "0e5eb0da",
   "metadata": {},
   "outputs": [],
   "source": [
    "\n",
    "treemap_df = (df_vendas.groupby([\"categoria\",\"produto\"])[\"valor\"].sum()\n",
    "              .reset_index())\n",
    "fig = px.treemap(treemap_df, path=[\"categoria\",\"produto\"], values=\"valor\",\n",
    "                 title=\"Participação por categoria/produto\")\n",
    "fig.show()\n"
   ]
  },
  {
   "cell_type": "markdown",
   "id": "d1aa44e5",
   "metadata": {},
   "source": [
    "\n",
    "### 16.4 Altair — declarações e interações elegantes\n"
   ]
  },
  {
   "cell_type": "code",
   "execution_count": null,
   "id": "6cdcccd3",
   "metadata": {},
   "outputs": [],
   "source": [
    "\n",
    "import altair as alt\n",
    "alt.data_transformers.disable_max_rows()\n"
   ]
  },
  {
   "cell_type": "code",
   "execution_count": null,
   "id": "cf0f14cb",
   "metadata": {},
   "outputs": [],
   "source": [
    "\n",
    "tmp = df_vendas.groupby([\"data\",\"regiao\"])[\"valor\"].sum().reset_index()\n",
    "select_reg = alt.selection_point(fields=[\"regiao\"], bind=\"legend\")\n",
    "\n",
    "chart = (alt.Chart(tmp)\n",
    "         .mark_line()\n",
    "         .encode(\n",
    "             x=\"data:T\",\n",
    "             y=alt.Y(\"valor:Q\", title=\"Valor\"),\n",
    "             color=\"regiao:N\",\n",
    "             tooltip=[\"data:T\",\"regiao:N\",\"valor:Q\"]\n",
    "         )\n",
    "         .add_params(select_reg)\n",
    "         .transform_filter(select_reg)\n",
    "         .properties(width=700, height=350, title=\"Série diária por região (Altair)\"))\n",
    "chart\n"
   ]
  },
  {
   "cell_type": "code",
   "execution_count": null,
   "id": "994adce8",
   "metadata": {},
   "outputs": [],
   "source": [
    "\n",
    "mensal_long = (mensal_regiao.reset_index()\n",
    "               .melt(id_vars=\"mes\", var_name=\"regiao\", value_name=\"valor\"))\n",
    "\n",
    "brush = alt.selection_interval(encodings=[\"x\"])\n",
    "\n",
    "base = (alt.Chart(mensal_long)\n",
    "        .mark_bar()\n",
    "        .encode(x=\"mes:T\", y=\"valor:Q\", color=\"regiao:N\", tooltip=[\"mes:T\",\"regiao:N\",\"valor:Q\"])\n",
    "        .properties(width=700, height=180))\n",
    "\n",
    "upper = base.add_params(brush)\n",
    "lower = base.transform_filter(brush)\n",
    "\n",
    "upper & lower\n"
   ]
  },
  {
   "cell_type": "code",
   "execution_count": null,
   "id": "62a3a33e",
   "metadata": {},
   "outputs": [],
   "source": [
    "\n",
    "heat = (alt.Chart(mensal_long)\n",
    "        .mark_rect()\n",
    "        .encode(\n",
    "            x=alt.X(\"mes:T\", title=\"Mês\"),\n",
    "            y=alt.Y(\"regiao:N\", title=\"Região\"),\n",
    "            tooltip=[\"mes:T\",\"regiao:N\",\"valor:Q\"],\n",
    "            fill=\"valor:Q\"\n",
    "        )\n",
    "        .properties(width=700, height=220, title=\"Heatmap: mensal × região\"))\n",
    "heat\n"
   ]
  },
  {
   "cell_type": "markdown",
   "id": "aaed9980",
   "metadata": {},
   "source": [
    "\n",
    "### 16.5 Bokeh — interativo com hover, zoom e pan\n"
   ]
  },
  {
   "cell_type": "code",
   "execution_count": null,
   "id": "a67a92ac",
   "metadata": {},
   "outputs": [],
   "source": [
    "\n",
    "from bokeh.plotting import figure, show\n",
    "from bokeh.models import HoverTool, ColumnDataSource\n",
    "from bokeh.io import output_notebook\n",
    "\n",
    "output_notebook()\n",
    "\n",
    "tmp = df_vendas.groupby(\"data\")[\"valor\"].sum().reset_index()\n",
    "source = ColumnDataSource(tmp.rename(columns={\"data\":\"x\",\"valor\":\"y\"}))\n",
    "\n",
    "p = figure(x_axis_type=\"datetime\", width=900, height=320, title=\"Vendas diárias (Bokeh)\")\n",
    "p.line(\"x\",\"y\", source=source, line_width=2)\n",
    "p.add_tools(HoverTool(tooltips=[(\"Data\",\"@x{%F}\"), (\"Valor\",\"@y{0,0.00}\")], formatters={\"@x\":\"datetime\"}))\n",
    "p.toolbar_location = \"right\"\n",
    "p.xaxis.axis_label = \"Data\"; p.yaxis.axis_label = \"Valor\"\n",
    "\n",
    "show(p)\n"
   ]
  },
  {
   "cell_type": "markdown",
   "id": "43ad4515",
   "metadata": {},
   "source": [
    "\n",
    "### Dicas finais de uso profissional\n",
    "- Pré-agregue no Pandas antes de plotar, para manter interatividade fluida.\n",
    "- Formate eixos (datas/unidades) e padronize títulos/labels.\n",
    "- Anote picos/vales e metas quando útil (Matplotlib/Plotly).\n",
    "- **Storytelling**: overview → cortes por dimensão → top‑N → drilldown.\n"
   ]
  },
  {
   "cell_type": "markdown",
   "id": "c869da27",
   "metadata": {},
   "source": [
    "\n",
    "## 17) **Anexo** — Python: Módulo × Pacote e `__init__.py`\n"
   ]
  },
  {
   "cell_type": "markdown",
   "id": "ed618ce5",
   "metadata": {},
   "source": [
    "\n",
    "- **Módulo**: **um arquivo** `.py` (ex.: `modulo.py`).\n",
    "- **Pacote**: **uma pasta** com um `__init__.py` (executado ao importar o pacote).\n",
    "- O método **`__init__` de classe** não é “construtor” em Python; quem cria a instância é `__new__`. O `__init__` apenas **inicializa**.\n",
    "\n",
    "```\n",
    "meu_projeto/\n",
    "└── pacote_exemplo/\n",
    "    ├── __init__.py\n",
    "    └── modulo.py\n",
    "```\n",
    "\n",
    "**`pacote_exemplo/modulo.py`**\n",
    "```python\n",
    "def diga_ola():\n",
    "    print(\"Olá do módulo!\")\n",
    "```\n",
    "\n",
    "**`pacote_exemplo/__init__.py`**\n",
    "```python\n",
    "from .modulo import diga_ola  # reexporta\n",
    "```\n",
    "\n",
    "**Uso**\n",
    "```python\n",
    "from pacote_exemplo import diga_ola\n",
    "diga_ola()\n",
    "```\n"
   ]
  },
  {
   "cell_type": "markdown",
   "id": "aecb4f64",
   "metadata": {},
   "source": [
    "\n",
    "---\n",
    "\n",
    "### Arquivos gerados neste notebook\n",
    "- `data/vendas.csv`, `data/clientes.csv`, `data/filmes.json`, `data/dados.xlsx`\n",
    "- `output/amostra.csv`, `output/amostra.xlsx`, `output/amostra.json`, `output/amostra.parquet` (se suportado)\n",
    "- `output/tabela_mensal.xlsx`\n"
   ]
  }
 ],
 "metadata": {},
 "nbformat": 4,
 "nbformat_minor": 5
}
